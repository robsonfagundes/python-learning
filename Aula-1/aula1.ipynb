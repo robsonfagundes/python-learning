{
 "cells": [
  {
   "cell_type": "code",
   "execution_count": null,
   "id": "dfd67c3a",
   "metadata": {},
   "outputs": [],
   "source": [
    "# Write step by step to application: \n",
    "\n",
    "# Step 1 - Login in app company (in this case google drive)\n",
    "# Step 2 - Navigate in system and search data base\n",
    "# Step 3 - Export datasheet (download file)\n",
    "# Step 4 - Calculate indicators (Total studies by Aet)\n",
    "# Step 5 - Send mail with indicators to users"
   ]
  },
  {
   "cell_type": "code",
   "execution_count": null,
   "id": "f48908db",
   "metadata": {},
   "outputs": [],
   "source": [
    "#!pip install pyautogui\n",
    "#!pip install pyperclip\n",
    "!pip install pandas\n",
    "!pip install openpyxl"
   ]
  },
  {
   "cell_type": "code",
   "execution_count": null,
   "id": "6fdef1d1",
   "metadata": {},
   "outputs": [],
   "source": [
    "import pyautogui\n",
    "import pyperclip\n",
    "import time\n",
    "\n",
    "import pandas as pd\n",
    "\n",
    "# Step 1 - Login in app company (in this case google drive)\n",
    "pyautogui.hotkey(\"command\", \"t\")\n",
    "pyautogui.write(\"https://drive.google.com/drive/u/1/shared-with-me\")\n",
    "pyautogui.press(\"enter\")\n",
    "\n",
    "time.sleep(3)\n",
    "\n",
    "# Step 2 - Navigate in system and search data base\n",
    "pyautogui.click(x=373, y=778)\n",
    "time.sleep(1)\n",
    "\n",
    "# Step 3 - Export datasheet (download file)\n",
    "pyautogui.click(x=1228, y=225)\n",
    "time.sleep(1)\n",
    "\n",
    "pyautogui.click(x=1054, y=665)\n",
    "time.sleep(5)\n",
    "\n",
    "pyautogui.click(x=498, y=515)\n",
    "time.sleep(1)\n",
    "\n",
    "pyautogui.click(x=922, y=606)\n",
    "time.sleep(1)\n",
    "\n",
    "pyautogui.click(x=852, y=430)\n",
    "time.sleep(1)\n",
    "\n",
    "\n",
    "# Step 4 - Calculate indicators (Total studies by Aet)\n",
    "table_vol = pd.read_excel(r\"/Users/robsonfagundes/Downloads/Volumetria Exames Clientes - 2021.xlsx\")\n",
    "display(table_vol)\n",
    "\n"
   ]
  },
  {
   "cell_type": "code",
   "execution_count": null,
   "id": "a0740175",
   "metadata": {},
   "outputs": [],
   "source": [
    "time.sleep(1)\n",
    "pyautogui.position()\n"
   ]
  }
 ],
 "metadata": {
  "kernelspec": {
   "display_name": "Python 3 (ipykernel)",
   "language": "python",
   "name": "python3"
  },
  "language_info": {
   "codemirror_mode": {
    "name": "ipython",
    "version": 3
   },
   "file_extension": ".py",
   "mimetype": "text/x-python",
   "name": "python",
   "nbconvert_exporter": "python",
   "pygments_lexer": "ipython3",
   "version": "3.9.7"
  }
 },
 "nbformat": 4,
 "nbformat_minor": 5
}
